{
 "cells": [
  {
   "cell_type": "code",
   "execution_count": 244,
   "metadata": {},
   "outputs": [],
   "source": [
    "def InitialiseParam_BS( Values, current_time_idx, r, div, sigma, dt, Smax, T, K ):\n",
    "    N = len(Values);\n",
    "    a = [0]*N;\n",
    "    b = [0]*N;\n",
    "    c = [0]*N;\n",
    "    d = [0]*N;\n",
    "    #print(dt, r, -1/dt - 0.5 *r )\n",
    "    for j in range(0, N, 1):\n",
    "        if j == 0: \n",
    "            a[0] = 0;\n",
    "            b[0] = 1;#-1/dt - 0.5*r;#lower boundary condition\n",
    "            c[0] = 0;\n",
    "            d[0] = 0;#( -1/dt + 0.5*r )*Values[0][ current_time_idx+1 ];\n",
    "        elif j == N-1:\n",
    "            a[j] = 0;\n",
    "            b[j] = 1;\n",
    "            c[j] = 0;\n",
    "            d[j] = Smax*numpy.exp(-div*(T-current_time_idx*dt)) - K*numpy.exp(-r*(T-current_time_idx*dt));#upper bounray condition\n",
    "            #print( j, a[j], b[j], c[j], d[j], '\\n');\n",
    "        else:\n",
    "            a[j] = -0.25*j*(r-div) + 0.25*sigma*sigma*j*j;\n",
    "            b[j] = -1/dt - 1/2*sigma*sigma*j*j - 1/2*r;\n",
    "            c[j] = +0.25*j*(r-div) + 0.25*sigma*sigma*j*j;\n",
    "            \n",
    "            d1 = ( 0.25*j*(r-div) - 0.25*sigma*sigma*j*j )*Values[j-1][current_time_idx+1];\n",
    "            d2 = (-1/dt + 1/2*sigma*sigma*j*j + 0.5*r )*Values[j][current_time_idx+1];\n",
    "            d3 = (-0.25*j*(r-div) - 0.25*sigma*sigma*j*j )*Values[j+1][current_time_idx+1];\n",
    "            d[j] = d1 + d2 + d3;\n",
    "                \n",
    "    return a,b,c,d"
   ]
  },
  {
   "cell_type": "code",
   "execution_count": 243,
   "metadata": {},
   "outputs": [],
   "source": [
    "#tested\n",
    "def SOR_solver( a, b, c, d, initial_guess, IterMax = 1000, tol = 1.e-8 ):\n",
    "    N = len(a);\n",
    "    omega = 0.8;\n",
    "    result = initial_guess[:];# create a copy\n",
    "    for sor in range( IterMax ):\n",
    "        err = 0;\n",
    "        y = (d[0] - c[0]*result[1])/b[0];\n",
    "        #print( d[0], c[0], b[0] );\n",
    "        err += abs(y);\n",
    "        result[0] = result[0] + omega*( y - result[0] );\n",
    "        \n",
    "        for j in range( 1, N-1, 1 ):\n",
    "            y = ( d[ j ] - a[ j ] * result[j-1] - c[ j ] * result[ j + 1 ] )/b [ j ];\n",
    "            err += abs(y);\n",
    "            result[ j ] = result[ j ] + omega *( y - result[ j ] );\n",
    "        \n",
    "        y = ( d[N-1] - a[ N-1 ] * result[N-2]) /b[ N-1 ] ;\n",
    "        err += abs(y);\n",
    "        result[ N-1 ] = result[ N-1 ] + omega*(y - result[ N-1 ] );\n",
    "        \n",
    "        \n",
    "        if err < tol:\n",
    "            break\n",
    "    return result"
   ]
  },
  {
   "cell_type": "code",
   "execution_count": 375,
   "metadata": {},
   "outputs": [],
   "source": [
    "def BSOptionPDESolver( S, rate, div, sigma, K, T, S_grid_size, T_grid_size, Smax ):\n",
    "    ds = Smax/S_grid_size;\n",
    "    dt = T/T_grid_size;\n",
    "    print( 'Grid boundary: S ', 0, '->', Smax, ' T ', 0, ' -> ', T );\n",
    "    print( 'Grid Sizes: S ', S_grid_size, ', T ', T_grid_size );\n",
    "    print( 'Step size: S ', ds, ', T ', dt);\n",
    "    \n",
    "    #initialise grid and mesh\n",
    "    S_grid = [j*ds for j in range(0,S_grid_size+1,1)];\n",
    "    T_grid = [i*dt for i in range(0,T_grid_size+1,1)];\n",
    "    \n",
    "    mesh = numpy.zeros([S_grid_size+1,T_grid_size+1] ,dtype = float );\n",
    "    for j in range(0,S_grid_size+1,1):\n",
    "        mesh[j][T_grid_size]= max(S_grid[j] - K , 0 );#initial condition\n",
    "        \n",
    "    for i in range( T_grid_size-1, -1, -1 ):\n",
    "        a,b,c,d = InitialiseParam_BS( mesh, i, rate, div, sigma, dt, Smax,T,K );\n",
    "        initial_guess = [ mesh[j][i+1] for j in range(len(mesh))];#solution at t+1\n",
    "        #print( 'Solving Time to maturity ', dt*i );\n",
    "        solution = SOR_solver(a,b,c,d, initial_guess);\n",
    "        for j in range( 0, len(solution), 1 ):\n",
    "            mesh[j][i] = solution[j];\n",
    "            \n",
    "    prices = [ mesh[j][0] for j in range(len(mesh))];\n",
    "    price  = numpy.interp(S, S_grid, prices);\n",
    "    #print( 'Price ', price )\n",
    "    return price"
   ]
  },
  {
   "cell_type": "code",
   "execution_count": 397,
   "metadata": {},
   "outputs": [],
   "source": [
    "def BS_Analytic( S, rate, div, sigma, K, T, optiontype = 'Call' ):\n",
    "    d1 = (numpy.log(S/K) + (rate - div + 0.5*sigma*sigma )*T )/(sigma *numpy.sqrt((T)));\n",
    "    d2 = d1 - sigma*numpy.sqrt(T);\n",
    "    if optiontype == 'Call':\n",
    "        return S*numpy.exp(-div*T)*stats.norm.cdf(d1) - K*numpy.exp(-rate*T)*stats.norm.cdf(d2);\n",
    "    elif optiontype == 'Put':\n",
    "        return K*numpy.exp(-rate*T)*stats.norm.cdf(-d2) - S*numpy.exp(-div*T)*stats.norm.cdf(-d1)\n",
    "    else:\n",
    "        sys.exit('undefined')"
   ]
  },
  {
   "cell_type": "code",
   "execution_count": 409,
   "metadata": {},
   "outputs": [
    {
     "data": {
      "text/plain": [
       "(100, 100, 0.04, 3, 0.3)"
      ]
     },
     "execution_count": 409,
     "metadata": {},
     "output_type": "execute_result"
    }
   ],
   "source": [
    "import math\n",
    "import numpy\n",
    "import sys\n",
    "import pdb\n",
    "import matplotlib.pyplot as plt\n",
    "from matplotlib import cm\n",
    "from mpl_toolkits.mplot3d import Axes3D\n",
    "from scipy import stats\n",
    "from tabulate import tabulate\n",
    "S = 100;\n",
    "rate = 0.02;\n",
    "div = 0.04;\n",
    "T=3;\n",
    "K=S;\n",
    "sigma = 0.3;\n",
    "S,K, div, T, sigma"
   ]
  },
  {
   "cell_type": "code",
   "execution_count": 255,
   "metadata": {},
   "outputs": [
    {
     "data": {
      "text/plain": [
       "(400, 1000, 3, 0.4, 0.003)"
      ]
     },
     "execution_count": 255,
     "metadata": {},
     "output_type": "execute_result"
    }
   ],
   "source": [
    "Smax = K*4;\n",
    "S_step_N = pow(10,3);\n",
    "T_step_M = pow(10,3);\n",
    "ds = Smax/S_step_N;\n",
    "dt = T/T_step_M;\n",
    "Smax,S_step_N, T, ds, dt"
   ]
  },
  {
   "cell_type": "code",
   "execution_count": 256,
   "metadata": {},
   "outputs": [],
   "source": [
    "S_grid = [j*ds for j in range(0,S_step_N+1,1)];\n",
    "T_grid = [i*dt for i in range(0,T_step_M+1,1)];"
   ]
  },
  {
   "cell_type": "code",
   "execution_count": 257,
   "metadata": {},
   "outputs": [],
   "source": [
    "mesh = numpy.zeros([S_step_N+1,T_step_M+1] ,dtype = float );\n",
    "for j in range(0,S_step_N+1,1):\n",
    "    mesh[j][T_step_M]= max(S_grid[j] - K , 0 );#initial condition"
   ]
  },
  {
   "cell_type": "code",
   "execution_count": 258,
   "metadata": {},
   "outputs": [],
   "source": [
    "for i in range( T_step_M-1, -1, -1 ):\n",
    "    a,b,c,d = InitialiseParam_BS( mesh, i, rate, div, sigma, dt, Smax,T,K );\n",
    "    initial_guess = [ mesh[j][i+1] for j in range(len(mesh))];#solution at t+1\n",
    "    solution = SOR_solver(a,b,c,d, initial_guess);\n",
    "    \n",
    "    for j in range( 0, len(solution), 1 ):\n",
    "        mesh[j][i] = solution[j];"
   ]
  },
  {
   "cell_type": "code",
   "execution_count": 345,
   "metadata": {},
   "outputs": [
    {
     "data": {
      "image/png": "[encoded data removed]",
      "text/plain": [
       "<Figure size 720x360 with 2 Axes>"
      ]
     },
     "metadata": {
      "needs_background": "light"
     },
     "output_type": "display_data"
    }
   ],
   "source": [
    "fig, ax = plt.subplots( )\n",
    "x = T_grid ;\n",
    "y = S_grid[200:500];\n",
    "z = mesh[200:500];\n",
    "c = ax.pcolormesh( x, y, z, cmap='RdBu' )\n",
    "ax.set_title('European Call Price')\n",
    "plt.xlabel('year',fontsize=16 );\n",
    "plt.ylabel('Stock Price',fontsize=16);\n",
    "fig.colorbar(c, ax=ax)\n",
    "fig.set_size_inches(10, 5);\n",
    "plt.show()\n",
    "fig.savefig('ECallPriceMesh.png', dpi=100)"
   ]
  },
  {
   "cell_type": "code",
   "execution_count": 319,
   "metadata": {},
   "outputs": [
    {
     "data": {
      "image/png": "[encoded data removed]",
      "text/plain": [
       "<Figure size 720x360 with 1 Axes>"
      ]
     },
     "metadata": {
      "needs_background": "light"
     },
     "output_type": "display_data"
    }
   ],
   "source": [
    "fig, ax2 = plt.subplots( )\n",
    "ax2.plot( S_grid, [ mesh[j][0] for j in range(len(mesh))], label = 'T=3y' )\n",
    "ax2.plot( S_grid, [ mesh[j][333] for j in range(len(mesh))], '--', label='T=2y' )\n",
    "ax2.plot( S_grid, [ mesh[j][666] for j in range(len(mesh))], '--', label='T=1y' )\n",
    "ax2.plot( S_grid, [ mesh[j][1000] for j in range(len(mesh))], '--', label='T=0y' )\n",
    "\n",
    "ax.set_title('Call Price vs Time to Maturity')\n",
    "plt.xlabel('Stock Price', fontsize=16 );\n",
    "plt.ylabel('European Call Price',fontsize=16 );\n",
    "plt.xlim([0,200]);\n",
    "plt.ylim([0,100]);\n",
    "plt.legend( loc='upper left', prop={'size': 16} )\n",
    "fig.set_size_inches(10, 5);\n",
    "plt.show()\n",
    "fig.savefig('EuropeanCallPrice.png', dpi=100)"
   ]
  },
  {
   "cell_type": "code",
   "execution_count": 386,
   "metadata": {},
   "outputs": [],
   "source": [
    "S_grid_sizes = [100, 200, 400, 800, 1600];\n",
    "T_grid_sizes = [100, 200, 400, 800, 1600];\n",
    "convergence = numpy.zeros( [len(S_grid_sizes), len(S_grid_sizes)],dtype = float );"
   ]
  },
  {
   "cell_type": "code",
   "execution_count": 387,
   "metadata": {},
   "outputs": [
    {
     "name": "stdout",
     "output_type": "stream",
     "text": [
      "Grid boundary: S  0 -> 400  T  0  ->  3\n",
      "Grid Sizes: S  100 , T  100\n",
      "Step size: S  4.0 , T  0.03\n",
      "100 100 16.110069671197166\n",
      "Grid boundary: S  0 -> 400  T  0  ->  3\n",
      "Grid Sizes: S  100 , T  200\n",
      "Step size: S  4.0 , T  0.015\n",
      "100 200 16.110015827658955\n",
      "Grid boundary: S  0 -> 400  T  0  ->  3\n",
      "Grid Sizes: S  100 , T  400\n",
      "Step size: S  4.0 , T  0.0075\n",
      "100 400 16.110002366395978\n",
      "Grid boundary: S  0 -> 400  T  0  ->  3\n",
      "Grid Sizes: S  100 , T  800\n",
      "Step size: S  4.0 , T  0.00375\n",
      "100 800 16.109999001056927\n",
      "Grid boundary: S  0 -> 400  T  0  ->  3\n",
      "Grid Sizes: S  100 , T  1600\n",
      "Step size: S  4.0 , T  0.001875\n",
      "100 1600 16.10999815972075\n",
      "Grid boundary: S  0 -> 400  T  0  ->  3\n",
      "Grid Sizes: S  200 , T  100\n",
      "Step size: S  2.0 , T  0.03\n",
      "200 100 16.119589254025797\n",
      "Grid boundary: S  0 -> 400  T  0  ->  3\n",
      "Grid Sizes: S  200 , T  200\n",
      "Step size: S  2.0 , T  0.015\n",
      "200 200 16.11953555191474\n",
      "Grid boundary: S  0 -> 400  T  0  ->  3\n",
      "Grid Sizes: S  200 , T  400\n",
      "Step size: S  2.0 , T  0.0075\n",
      "200 400 16.119522126012214\n",
      "Grid boundary: S  0 -> 400  T  0  ->  3\n",
      "Grid Sizes: S  200 , T  800\n",
      "Step size: S  2.0 , T  0.00375\n",
      "200 800 16.11951876951304\n",
      "Grid boundary: S  0 -> 400  T  0  ->  3\n",
      "Grid Sizes: S  200 , T  1600\n",
      "Step size: S  2.0 , T  0.001875\n",
      "200 1600 16.11951793038686\n",
      "Grid boundary: S  0 -> 400  T  0  ->  3\n",
      "Grid Sizes: S  400 , T  100\n",
      "Step size: S  1.0 , T  0.03\n",
      "400 100 16.121935820011814\n",
      "Grid boundary: S  0 -> 400  T  0  ->  3\n",
      "Grid Sizes: S  400 , T  200\n",
      "Step size: S  1.0 , T  0.015\n",
      "400 200 16.121913421377172\n",
      "Grid boundary: S  0 -> 400  T  0  ->  3\n",
      "Grid Sizes: S  400 , T  400\n",
      "Step size: S  1.0 , T  0.0075\n",
      "400 400 16.121900004255178\n",
      "Grid boundary: S  0 -> 400  T  0  ->  3\n",
      "Grid Sizes: S  400 , T  800\n",
      "Step size: S  1.0 , T  0.00375\n",
      "400 800 16.121896649950425\n",
      "Grid boundary: S  0 -> 400  T  0  ->  3\n",
      "Grid Sizes: S  400 , T  1600\n",
      "Step size: S  1.0 , T  0.001875\n",
      "400 1600 16.12189581137192\n",
      "Grid boundary: S  0 -> 400  T  0  ->  3\n",
      "Grid Sizes: S  800 , T  100\n",
      "Step size: S  0.5 , T  0.03\n",
      "800 100 16.11645692650006\n",
      "Grid boundary: S  0 -> 400  T  0  ->  3\n",
      "Grid Sizes: S  800 , T  200\n",
      "Step size: S  0.5 , T  0.015\n",
      "800 200 16.122549446025896\n",
      "Grid boundary: S  0 -> 400  T  0  ->  3\n",
      "Grid Sizes: S  800 , T  400\n",
      "Step size: S  0.5 , T  0.0075\n",
      "800 400 16.12249449121976\n",
      "Grid boundary: S  0 -> 400  T  0  ->  3\n",
      "Grid Sizes: S  800 , T  800\n",
      "Step size: S  0.5 , T  0.00375\n",
      "800 800 16.122490991535564\n",
      "Grid boundary: S  0 -> 400  T  0  ->  3\n",
      "Grid Sizes: S  800 , T  1600\n",
      "Step size: S  0.5 , T  0.001875\n",
      "800 1600 16.122490153092553\n",
      "Grid boundary: S  0 -> 400  T  0  ->  3\n",
      "Grid Sizes: S  1600 , T  100\n",
      "Step size: S  0.25 , T  0.03\n",
      "1600 100 16.184682196010158\n",
      "Grid boundary: S  0 -> 400  T  0  ->  3\n",
      "Grid Sizes: S  1600 , T  200\n",
      "Step size: S  0.25 , T  0.015\n",
      "1600 200 16.139153171596853\n",
      "Grid boundary: S  0 -> 400  T  0  ->  3\n",
      "Grid Sizes: S  1600 , T  400\n",
      "Step size: S  0.25 , T  0.0075\n",
      "1600 400 16.124659946917685\n",
      "Grid boundary: S  0 -> 400  T  0  ->  3\n",
      "Grid Sizes: S  1600 , T  800\n",
      "Step size: S  0.25 , T  0.00375\n",
      "1600 800 16.122699157603716\n",
      "Grid boundary: S  0 -> 400  T  0  ->  3\n",
      "Grid Sizes: S  1600 , T  1600\n",
      "Step size: S  0.25 , T  0.001875\n",
      "1600 1600 16.12263890099327\n"
     ]
    }
   ],
   "source": [
    "#calculate option price with different grid size\n",
    "for s in range(len(S_grid_sizes)):\n",
    "    s_size = S_grid_sizes[s];\n",
    "    for t in range(len(T_grid_sizes)):\n",
    "        t_size = T_grid_sizes[t];\n",
    "        price = BSOptionPDESolver( S, rate, div, sigma, K, T, s_size, t_size, 4*S );\n",
    "        print(s_size , t_size, price);\n",
    "        convergence[s][t] = price;"
   ]
  },
  {
   "cell_type": "code",
   "execution_count": 404,
   "metadata": {},
   "outputs": [
    {
     "ename": "SyntaxError",
     "evalue": "invalid syntax (<ipython-input-404-46d502c423f2>, line 5)",
     "output_type": "error",
     "traceback": [
      "\u001b[0;36m  File \u001b[0;32m\"<ipython-input-404-46d502c423f2>\"\u001b[0;36m, line \u001b[0;32m5\u001b[0m\n\u001b[0;31m    print '{:4}'.format(convergence[s][t]),\u001b[0m\n\u001b[0m               ^\u001b[0m\n\u001b[0;31mSyntaxError\u001b[0m\u001b[0;31m:\u001b[0m invalid syntax\n"
     ]
    }
   ],
   "source": [
    "for s in range(len(S_grid_sizes)):\n",
    "    s_size = S_grid_sizes[s];\n",
    "    for t in range(len(T_grid_sizes)):\n",
    "        t_size = T_grid_sizes[t];\n",
    "        print '{:4}'.format(convergence[s][t]),"
   ]
  },
  {
   "cell_type": "code",
   "execution_count": 398,
   "metadata": {},
   "outputs": [],
   "source": [
    "analytic = BS_Analytic(S,rate,div,sigma,K,T,optiontype = 'Call')"
   ]
  },
  {
   "cell_type": "code",
   "execution_count": 433,
   "metadata": {},
   "outputs": [],
   "source": [
    "#print table of convergence\n",
    "con = list();\n",
    "for s in range(len(S_grid_sizes)):\n",
    "    temp = list();\n",
    "    temp.append('J=' + str( S_grid_sizes[s]));\n",
    "    for t in range(len(T_grid_sizes)):\n",
    "        temp.append(convergence[s][t]);\n",
    "    con.append(temp)\n",
    "    \n",
    "tab = tabulate( con , headers=['J=', 'I=100', 'I=200', 'I=400', 'I=800', 'I=1600'], tablefmt='orgtbl');\n",
    "print(tab)"
   ]
  }
 ],
 "metadata": {
  "kernelspec": {
   "display_name": "Python 3",
   "language": "python",
   "name": "python3"
  }
 },
 "nbformat": 4,
 "nbformat_minor": 2
}
